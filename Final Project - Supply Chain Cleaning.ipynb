{
 "cells": [
  {
   "cell_type": "code",
   "execution_count": 66,
   "id": "1e85da1f",
   "metadata": {},
   "outputs": [],
   "source": [
    "import pandas as pd\n",
    "import numpy as np\n",
    "import seaborn as sns \n",
    "import matplotlib.pyplot as plt\n",
    "from sqlalchemy import create_engine\n",
    "pd.set_option('display.float_format', '{:,.2f}'.format)"
   ]
  },
  {
   "cell_type": "markdown",
   "id": "06c6cd80",
   "metadata": {},
   "source": [
    "# Exploring the Data"
   ]
  },
  {
   "cell_type": "code",
   "execution_count": 2,
   "id": "640ae6bb",
   "metadata": {},
   "outputs": [
    {
     "name": "stdout",
     "output_type": "stream",
     "text": [
      "{'encoding': 'ISO-8859-1', 'confidence': 0.73, 'language': ''}\n"
     ]
    }
   ],
   "source": [
    "import chardet\n",
    "\n",
    "with open(r'E:\\Yara Khaled\\IT\\DEPI\\Final Project\\DataCoSupplyChainDataset.csv', 'rb') as f:\n",
    "    result = chardet.detect(f.read(10000))\n",
    "    print(result)"
   ]
  },
  {
   "cell_type": "code",
   "execution_count": 33,
   "id": "c4925801",
   "metadata": {},
   "outputs": [],
   "source": [
    "Data = pd.read_csv(r'E:\\Yara Khaled\\IT\\DEPI\\Final Project\\DataCoSupplyChainDataset.csv',encoding='ISO-8859-1')\n",
    "Data"
   ]
  },
  {
   "cell_type": "code",
   "execution_count": 34,
   "id": "785e30d8",
   "metadata": {},
   "outputs": [
    {
     "name": "stdout",
     "output_type": "stream",
     "text": [
      "<class 'pandas.core.frame.DataFrame'>\n",
      "RangeIndex: 180519 entries, 0 to 180518\n",
      "Data columns (total 53 columns):\n",
      " #   Column                         Non-Null Count   Dtype  \n",
      "---  ------                         --------------   -----  \n",
      " 0   Type                           180519 non-null  object \n",
      " 1   Days for shipping (real)       180519 non-null  int64  \n",
      " 2   Days for shipment (scheduled)  180519 non-null  int64  \n",
      " 3   Benefit per order              180519 non-null  float64\n",
      " 4   Sales per customer             180519 non-null  float64\n",
      " 5   Delivery Status                180519 non-null  object \n",
      " 6   Late_delivery_risk             180519 non-null  int64  \n",
      " 7   Category Id                    180519 non-null  int64  \n",
      " 8   Category Name                  180519 non-null  object \n",
      " 9   Customer City                  180519 non-null  object \n",
      " 10  Customer Country               180519 non-null  object \n",
      " 11  Customer Email                 180519 non-null  object \n",
      " 12  Customer Fname                 180519 non-null  object \n",
      " 13  Customer Id                    180519 non-null  int64  \n",
      " 14  Customer Lname                 180511 non-null  object \n",
      " 15  Customer Password              180519 non-null  object \n",
      " 16  Customer Segment               180519 non-null  object \n",
      " 17  Customer State                 180519 non-null  object \n",
      " 18  Customer Street                180519 non-null  object \n",
      " 19  Customer Zipcode               180516 non-null  float64\n",
      " 20  Department Id                  180519 non-null  int64  \n",
      " 21  Department Name                180519 non-null  object \n",
      " 22  Latitude                       180519 non-null  float64\n",
      " 23  Longitude                      180519 non-null  float64\n",
      " 24  Market                         180519 non-null  object \n",
      " 25  Order City                     180519 non-null  object \n",
      " 26  Order Country                  180519 non-null  object \n",
      " 27  Order Customer Id              180519 non-null  int64  \n",
      " 28  order date (DateOrders)        180519 non-null  object \n",
      " 29  Order Id                       180519 non-null  int64  \n",
      " 30  Order Item Cardprod Id         180519 non-null  int64  \n",
      " 31  Order Item Discount            180519 non-null  float64\n",
      " 32  Order Item Discount Rate       180519 non-null  float64\n",
      " 33  Order Item Id                  180519 non-null  int64  \n",
      " 34  Order Item Product Price       180519 non-null  float64\n",
      " 35  Order Item Profit Ratio        180519 non-null  float64\n",
      " 36  Order Item Quantity            180519 non-null  int64  \n",
      " 37  Sales                          180519 non-null  float64\n",
      " 38  Order Item Total               180519 non-null  float64\n",
      " 39  Order Profit Per Order         180519 non-null  float64\n",
      " 40  Order Region                   180519 non-null  object \n",
      " 41  Order State                    180519 non-null  object \n",
      " 42  Order Status                   180519 non-null  object \n",
      " 43  Order Zipcode                  24840 non-null   float64\n",
      " 44  Product Card Id                180519 non-null  int64  \n",
      " 45  Product Category Id            180519 non-null  int64  \n",
      " 46  Product Description            0 non-null       float64\n",
      " 47  Product Image                  180519 non-null  object \n",
      " 48  Product Name                   180519 non-null  object \n",
      " 49  Product Price                  180519 non-null  float64\n",
      " 50  Product Status                 180519 non-null  int64  \n",
      " 51  shipping date (DateOrders)     180519 non-null  object \n",
      " 52  Shipping Mode                  180519 non-null  object \n",
      "dtypes: float64(15), int64(14), object(24)\n",
      "memory usage: 73.0+ MB\n"
     ]
    }
   ],
   "source": [
    "# Checking the data types of columns\n",
    "Data.info()"
   ]
  },
  {
   "cell_type": "code",
   "execution_count": 35,
   "id": "693e7184",
   "metadata": {},
   "outputs": [
    {
     "data": {
      "text/html": [
       "<div>\n",
       "<style scoped>\n",
       "    .dataframe tbody tr th:only-of-type {\n",
       "        vertical-align: middle;\n",
       "    }\n",
       "\n",
       "    .dataframe tbody tr th {\n",
       "        vertical-align: top;\n",
       "    }\n",
       "\n",
       "    .dataframe thead th {\n",
       "        text-align: right;\n",
       "    }\n",
       "</style>\n",
       "<table border=\"1\" class=\"dataframe\">\n",
       "  <thead>\n",
       "    <tr style=\"text-align: right;\">\n",
       "      <th></th>\n",
       "      <th>Days for shipping (real)</th>\n",
       "      <th>Days for shipment (scheduled)</th>\n",
       "      <th>Benefit per order</th>\n",
       "      <th>Sales per customer</th>\n",
       "      <th>Late_delivery_risk</th>\n",
       "      <th>Category Id</th>\n",
       "      <th>Customer Id</th>\n",
       "      <th>Customer Zipcode</th>\n",
       "      <th>Department Id</th>\n",
       "      <th>Latitude</th>\n",
       "      <th>...</th>\n",
       "      <th>Order Item Quantity</th>\n",
       "      <th>Sales</th>\n",
       "      <th>Order Item Total</th>\n",
       "      <th>Order Profit Per Order</th>\n",
       "      <th>Order Zipcode</th>\n",
       "      <th>Product Card Id</th>\n",
       "      <th>Product Category Id</th>\n",
       "      <th>Product Description</th>\n",
       "      <th>Product Price</th>\n",
       "      <th>Product Status</th>\n",
       "    </tr>\n",
       "  </thead>\n",
       "  <tbody>\n",
       "    <tr>\n",
       "      <th>count</th>\n",
       "      <td>180,519.00</td>\n",
       "      <td>180,519.00</td>\n",
       "      <td>180,519.00</td>\n",
       "      <td>180,519.00</td>\n",
       "      <td>180,519.00</td>\n",
       "      <td>180,519.00</td>\n",
       "      <td>180,519.00</td>\n",
       "      <td>180,516.00</td>\n",
       "      <td>180,519.00</td>\n",
       "      <td>180,519.00</td>\n",
       "      <td>...</td>\n",
       "      <td>180,519.00</td>\n",
       "      <td>180,519.00</td>\n",
       "      <td>180,519.00</td>\n",
       "      <td>180,519.00</td>\n",
       "      <td>24,840.00</td>\n",
       "      <td>180,519.00</td>\n",
       "      <td>180,519.00</td>\n",
       "      <td>0.00</td>\n",
       "      <td>180,519.00</td>\n",
       "      <td>180,519.00</td>\n",
       "    </tr>\n",
       "    <tr>\n",
       "      <th>mean</th>\n",
       "      <td>3.50</td>\n",
       "      <td>2.93</td>\n",
       "      <td>21.97</td>\n",
       "      <td>183.11</td>\n",
       "      <td>0.55</td>\n",
       "      <td>31.85</td>\n",
       "      <td>6,691.38</td>\n",
       "      <td>35,921.13</td>\n",
       "      <td>5.44</td>\n",
       "      <td>29.72</td>\n",
       "      <td>...</td>\n",
       "      <td>2.13</td>\n",
       "      <td>203.77</td>\n",
       "      <td>183.11</td>\n",
       "      <td>21.97</td>\n",
       "      <td>55,426.13</td>\n",
       "      <td>692.51</td>\n",
       "      <td>31.85</td>\n",
       "      <td>NaN</td>\n",
       "      <td>141.23</td>\n",
       "      <td>0.00</td>\n",
       "    </tr>\n",
       "    <tr>\n",
       "      <th>std</th>\n",
       "      <td>1.62</td>\n",
       "      <td>1.37</td>\n",
       "      <td>104.43</td>\n",
       "      <td>120.04</td>\n",
       "      <td>0.50</td>\n",
       "      <td>15.64</td>\n",
       "      <td>4,162.92</td>\n",
       "      <td>37,542.46</td>\n",
       "      <td>1.63</td>\n",
       "      <td>9.81</td>\n",
       "      <td>...</td>\n",
       "      <td>1.45</td>\n",
       "      <td>132.27</td>\n",
       "      <td>120.04</td>\n",
       "      <td>104.43</td>\n",
       "      <td>31,919.28</td>\n",
       "      <td>336.45</td>\n",
       "      <td>15.64</td>\n",
       "      <td>NaN</td>\n",
       "      <td>139.73</td>\n",
       "      <td>0.00</td>\n",
       "    </tr>\n",
       "    <tr>\n",
       "      <th>min</th>\n",
       "      <td>0.00</td>\n",
       "      <td>0.00</td>\n",
       "      <td>-4,274.98</td>\n",
       "      <td>7.49</td>\n",
       "      <td>0.00</td>\n",
       "      <td>2.00</td>\n",
       "      <td>1.00</td>\n",
       "      <td>603.00</td>\n",
       "      <td>2.00</td>\n",
       "      <td>-33.94</td>\n",
       "      <td>...</td>\n",
       "      <td>1.00</td>\n",
       "      <td>9.99</td>\n",
       "      <td>7.49</td>\n",
       "      <td>-4,274.98</td>\n",
       "      <td>1,040.00</td>\n",
       "      <td>19.00</td>\n",
       "      <td>2.00</td>\n",
       "      <td>NaN</td>\n",
       "      <td>9.99</td>\n",
       "      <td>0.00</td>\n",
       "    </tr>\n",
       "    <tr>\n",
       "      <th>25%</th>\n",
       "      <td>2.00</td>\n",
       "      <td>2.00</td>\n",
       "      <td>7.00</td>\n",
       "      <td>104.38</td>\n",
       "      <td>0.00</td>\n",
       "      <td>18.00</td>\n",
       "      <td>3,258.50</td>\n",
       "      <td>725.00</td>\n",
       "      <td>4.00</td>\n",
       "      <td>18.27</td>\n",
       "      <td>...</td>\n",
       "      <td>1.00</td>\n",
       "      <td>119.98</td>\n",
       "      <td>104.38</td>\n",
       "      <td>7.00</td>\n",
       "      <td>23,464.00</td>\n",
       "      <td>403.00</td>\n",
       "      <td>18.00</td>\n",
       "      <td>NaN</td>\n",
       "      <td>50.00</td>\n",
       "      <td>0.00</td>\n",
       "    </tr>\n",
       "    <tr>\n",
       "      <th>50%</th>\n",
       "      <td>3.00</td>\n",
       "      <td>4.00</td>\n",
       "      <td>31.52</td>\n",
       "      <td>163.99</td>\n",
       "      <td>1.00</td>\n",
       "      <td>29.00</td>\n",
       "      <td>6,457.00</td>\n",
       "      <td>19,380.00</td>\n",
       "      <td>5.00</td>\n",
       "      <td>33.14</td>\n",
       "      <td>...</td>\n",
       "      <td>1.00</td>\n",
       "      <td>199.92</td>\n",
       "      <td>163.99</td>\n",
       "      <td>31.52</td>\n",
       "      <td>59,405.00</td>\n",
       "      <td>627.00</td>\n",
       "      <td>29.00</td>\n",
       "      <td>NaN</td>\n",
       "      <td>59.99</td>\n",
       "      <td>0.00</td>\n",
       "    </tr>\n",
       "    <tr>\n",
       "      <th>75%</th>\n",
       "      <td>5.00</td>\n",
       "      <td>4.00</td>\n",
       "      <td>64.80</td>\n",
       "      <td>247.40</td>\n",
       "      <td>1.00</td>\n",
       "      <td>45.00</td>\n",
       "      <td>9,779.00</td>\n",
       "      <td>78,207.00</td>\n",
       "      <td>7.00</td>\n",
       "      <td>39.28</td>\n",
       "      <td>...</td>\n",
       "      <td>3.00</td>\n",
       "      <td>299.95</td>\n",
       "      <td>247.40</td>\n",
       "      <td>64.80</td>\n",
       "      <td>90,008.00</td>\n",
       "      <td>1,004.00</td>\n",
       "      <td>45.00</td>\n",
       "      <td>NaN</td>\n",
       "      <td>199.99</td>\n",
       "      <td>0.00</td>\n",
       "    </tr>\n",
       "    <tr>\n",
       "      <th>max</th>\n",
       "      <td>6.00</td>\n",
       "      <td>4.00</td>\n",
       "      <td>911.80</td>\n",
       "      <td>1,939.99</td>\n",
       "      <td>1.00</td>\n",
       "      <td>76.00</td>\n",
       "      <td>20,757.00</td>\n",
       "      <td>99,205.00</td>\n",
       "      <td>12.00</td>\n",
       "      <td>48.78</td>\n",
       "      <td>...</td>\n",
       "      <td>5.00</td>\n",
       "      <td>1,999.99</td>\n",
       "      <td>1,939.99</td>\n",
       "      <td>911.80</td>\n",
       "      <td>99,301.00</td>\n",
       "      <td>1,363.00</td>\n",
       "      <td>76.00</td>\n",
       "      <td>NaN</td>\n",
       "      <td>1,999.99</td>\n",
       "      <td>0.00</td>\n",
       "    </tr>\n",
       "  </tbody>\n",
       "</table>\n",
       "<p>8 rows × 29 columns</p>\n",
       "</div>"
      ],
      "text/plain": [
       "       Days for shipping (real)  Days for shipment (scheduled)  \\\n",
       "count                180,519.00                     180,519.00   \n",
       "mean                       3.50                           2.93   \n",
       "std                        1.62                           1.37   \n",
       "min                        0.00                           0.00   \n",
       "25%                        2.00                           2.00   \n",
       "50%                        3.00                           4.00   \n",
       "75%                        5.00                           4.00   \n",
       "max                        6.00                           4.00   \n",
       "\n",
       "       Benefit per order  Sales per customer  Late_delivery_risk  Category Id  \\\n",
       "count         180,519.00          180,519.00          180,519.00   180,519.00   \n",
       "mean               21.97              183.11                0.55        31.85   \n",
       "std               104.43              120.04                0.50        15.64   \n",
       "min            -4,274.98                7.49                0.00         2.00   \n",
       "25%                 7.00              104.38                0.00        18.00   \n",
       "50%                31.52              163.99                1.00        29.00   \n",
       "75%                64.80              247.40                1.00        45.00   \n",
       "max               911.80            1,939.99                1.00        76.00   \n",
       "\n",
       "       Customer Id  Customer Zipcode  Department Id   Latitude  ...  \\\n",
       "count   180,519.00        180,516.00     180,519.00 180,519.00  ...   \n",
       "mean      6,691.38         35,921.13           5.44      29.72  ...   \n",
       "std       4,162.92         37,542.46           1.63       9.81  ...   \n",
       "min           1.00            603.00           2.00     -33.94  ...   \n",
       "25%       3,258.50            725.00           4.00      18.27  ...   \n",
       "50%       6,457.00         19,380.00           5.00      33.14  ...   \n",
       "75%       9,779.00         78,207.00           7.00      39.28  ...   \n",
       "max      20,757.00         99,205.00          12.00      48.78  ...   \n",
       "\n",
       "       Order Item Quantity      Sales  Order Item Total  \\\n",
       "count           180,519.00 180,519.00        180,519.00   \n",
       "mean                  2.13     203.77            183.11   \n",
       "std                   1.45     132.27            120.04   \n",
       "min                   1.00       9.99              7.49   \n",
       "25%                   1.00     119.98            104.38   \n",
       "50%                   1.00     199.92            163.99   \n",
       "75%                   3.00     299.95            247.40   \n",
       "max                   5.00   1,999.99          1,939.99   \n",
       "\n",
       "       Order Profit Per Order  Order Zipcode  Product Card Id  \\\n",
       "count              180,519.00      24,840.00       180,519.00   \n",
       "mean                    21.97      55,426.13           692.51   \n",
       "std                    104.43      31,919.28           336.45   \n",
       "min                 -4,274.98       1,040.00            19.00   \n",
       "25%                      7.00      23,464.00           403.00   \n",
       "50%                     31.52      59,405.00           627.00   \n",
       "75%                     64.80      90,008.00         1,004.00   \n",
       "max                    911.80      99,301.00         1,363.00   \n",
       "\n",
       "       Product Category Id  Product Description  Product Price  Product Status  \n",
       "count           180,519.00                 0.00     180,519.00      180,519.00  \n",
       "mean                 31.85                  NaN         141.23            0.00  \n",
       "std                  15.64                  NaN         139.73            0.00  \n",
       "min                   2.00                  NaN           9.99            0.00  \n",
       "25%                  18.00                  NaN          50.00            0.00  \n",
       "50%                  29.00                  NaN          59.99            0.00  \n",
       "75%                  45.00                  NaN         199.99            0.00  \n",
       "max                  76.00                  NaN       1,999.99            0.00  \n",
       "\n",
       "[8 rows x 29 columns]"
      ]
     },
     "execution_count": 35,
     "metadata": {},
     "output_type": "execute_result"
    }
   ],
   "source": [
    "Data.describe()"
   ]
  },
  {
   "cell_type": "code",
   "execution_count": 36,
   "id": "58670714",
   "metadata": {},
   "outputs": [
    {
     "data": {
      "text/html": [
       "<div>\n",
       "<style scoped>\n",
       "    .dataframe tbody tr th:only-of-type {\n",
       "        vertical-align: middle;\n",
       "    }\n",
       "\n",
       "    .dataframe tbody tr th {\n",
       "        vertical-align: top;\n",
       "    }\n",
       "\n",
       "    .dataframe thead th {\n",
       "        text-align: right;\n",
       "    }\n",
       "</style>\n",
       "<table border=\"1\" class=\"dataframe\">\n",
       "  <thead>\n",
       "    <tr style=\"text-align: right;\">\n",
       "      <th></th>\n",
       "      <th>Type</th>\n",
       "      <th>Delivery Status</th>\n",
       "      <th>Category Name</th>\n",
       "      <th>Customer City</th>\n",
       "      <th>Customer Country</th>\n",
       "      <th>Customer Email</th>\n",
       "      <th>Customer Fname</th>\n",
       "      <th>Customer Lname</th>\n",
       "      <th>Customer Password</th>\n",
       "      <th>Customer Segment</th>\n",
       "      <th>...</th>\n",
       "      <th>Order City</th>\n",
       "      <th>Order Country</th>\n",
       "      <th>order date (DateOrders)</th>\n",
       "      <th>Order Region</th>\n",
       "      <th>Order State</th>\n",
       "      <th>Order Status</th>\n",
       "      <th>Product Image</th>\n",
       "      <th>Product Name</th>\n",
       "      <th>shipping date (DateOrders)</th>\n",
       "      <th>Shipping Mode</th>\n",
       "    </tr>\n",
       "  </thead>\n",
       "  <tbody>\n",
       "    <tr>\n",
       "      <th>count</th>\n",
       "      <td>180519</td>\n",
       "      <td>180519</td>\n",
       "      <td>180519</td>\n",
       "      <td>180519</td>\n",
       "      <td>180519</td>\n",
       "      <td>180519</td>\n",
       "      <td>180519</td>\n",
       "      <td>180511</td>\n",
       "      <td>180519</td>\n",
       "      <td>180519</td>\n",
       "      <td>...</td>\n",
       "      <td>180519</td>\n",
       "      <td>180519</td>\n",
       "      <td>180519</td>\n",
       "      <td>180519</td>\n",
       "      <td>180519</td>\n",
       "      <td>180519</td>\n",
       "      <td>180519</td>\n",
       "      <td>180519</td>\n",
       "      <td>180519</td>\n",
       "      <td>180519</td>\n",
       "    </tr>\n",
       "    <tr>\n",
       "      <th>unique</th>\n",
       "      <td>4</td>\n",
       "      <td>4</td>\n",
       "      <td>50</td>\n",
       "      <td>563</td>\n",
       "      <td>2</td>\n",
       "      <td>1</td>\n",
       "      <td>782</td>\n",
       "      <td>1109</td>\n",
       "      <td>1</td>\n",
       "      <td>3</td>\n",
       "      <td>...</td>\n",
       "      <td>3597</td>\n",
       "      <td>164</td>\n",
       "      <td>65752</td>\n",
       "      <td>23</td>\n",
       "      <td>1089</td>\n",
       "      <td>9</td>\n",
       "      <td>118</td>\n",
       "      <td>118</td>\n",
       "      <td>63701</td>\n",
       "      <td>4</td>\n",
       "    </tr>\n",
       "    <tr>\n",
       "      <th>top</th>\n",
       "      <td>DEBIT</td>\n",
       "      <td>Late delivery</td>\n",
       "      <td>Cleats</td>\n",
       "      <td>Caguas</td>\n",
       "      <td>EE. UU.</td>\n",
       "      <td>XXXXXXXXX</td>\n",
       "      <td>Mary</td>\n",
       "      <td>Smith</td>\n",
       "      <td>XXXXXXXXX</td>\n",
       "      <td>Consumer</td>\n",
       "      <td>...</td>\n",
       "      <td>Santo Domingo</td>\n",
       "      <td>Estados Unidos</td>\n",
       "      <td>12/14/2016 12:29</td>\n",
       "      <td>Central America</td>\n",
       "      <td>Inglaterra</td>\n",
       "      <td>COMPLETE</td>\n",
       "      <td>http://images.acmesports.sports/Perfect+Fitnes...</td>\n",
       "      <td>Perfect Fitness Perfect Rip Deck</td>\n",
       "      <td>1/5/2016 5:58</td>\n",
       "      <td>Standard Class</td>\n",
       "    </tr>\n",
       "    <tr>\n",
       "      <th>freq</th>\n",
       "      <td>69295</td>\n",
       "      <td>98977</td>\n",
       "      <td>24551</td>\n",
       "      <td>66770</td>\n",
       "      <td>111146</td>\n",
       "      <td>180519</td>\n",
       "      <td>65150</td>\n",
       "      <td>64104</td>\n",
       "      <td>180519</td>\n",
       "      <td>93504</td>\n",
       "      <td>...</td>\n",
       "      <td>2211</td>\n",
       "      <td>24840</td>\n",
       "      <td>5</td>\n",
       "      <td>28341</td>\n",
       "      <td>6722</td>\n",
       "      <td>59491</td>\n",
       "      <td>24515</td>\n",
       "      <td>24515</td>\n",
       "      <td>10</td>\n",
       "      <td>107752</td>\n",
       "    </tr>\n",
       "  </tbody>\n",
       "</table>\n",
       "<p>4 rows × 24 columns</p>\n",
       "</div>"
      ],
      "text/plain": [
       "          Type Delivery Status Category Name Customer City Customer Country  \\\n",
       "count   180519          180519        180519        180519           180519   \n",
       "unique       4               4            50           563                2   \n",
       "top      DEBIT   Late delivery        Cleats        Caguas          EE. UU.   \n",
       "freq     69295           98977         24551         66770           111146   \n",
       "\n",
       "       Customer Email Customer Fname Customer Lname Customer Password  \\\n",
       "count          180519         180519         180511            180519   \n",
       "unique              1            782           1109                 1   \n",
       "top         XXXXXXXXX           Mary          Smith         XXXXXXXXX   \n",
       "freq           180519          65150          64104            180519   \n",
       "\n",
       "       Customer Segment  ...     Order City   Order Country  \\\n",
       "count            180519  ...         180519          180519   \n",
       "unique                3  ...           3597             164   \n",
       "top            Consumer  ...  Santo Domingo  Estados Unidos   \n",
       "freq              93504  ...           2211           24840   \n",
       "\n",
       "       order date (DateOrders)     Order Region Order State Order Status  \\\n",
       "count                   180519           180519      180519       180519   \n",
       "unique                   65752               23        1089            9   \n",
       "top           12/14/2016 12:29  Central America  Inglaterra     COMPLETE   \n",
       "freq                         5            28341        6722        59491   \n",
       "\n",
       "                                            Product Image  \\\n",
       "count                                              180519   \n",
       "unique                                                118   \n",
       "top     http://images.acmesports.sports/Perfect+Fitnes...   \n",
       "freq                                                24515   \n",
       "\n",
       "                            Product Name shipping date (DateOrders)  \\\n",
       "count                             180519                     180519   \n",
       "unique                               118                      63701   \n",
       "top     Perfect Fitness Perfect Rip Deck              1/5/2016 5:58   \n",
       "freq                               24515                         10   \n",
       "\n",
       "         Shipping Mode  \n",
       "count           180519  \n",
       "unique               4  \n",
       "top     Standard Class  \n",
       "freq            107752  \n",
       "\n",
       "[4 rows x 24 columns]"
      ]
     },
     "execution_count": 36,
     "metadata": {},
     "output_type": "execute_result"
    }
   ],
   "source": [
    "Data.describe(include='object')"
   ]
  },
  {
   "cell_type": "markdown",
   "id": "85b4eef6",
   "metadata": {},
   "source": [
    "# Cleaning the Data"
   ]
  },
  {
   "cell_type": "code",
   "execution_count": 37,
   "id": "5a0fc715",
   "metadata": {},
   "outputs": [],
   "source": [
    "# Capitalize each word in the columns name \n",
    "Data.columns = Data.columns.str.title()"
   ]
  },
  {
   "cell_type": "code",
   "execution_count": 38,
   "id": "b4eec38b",
   "metadata": {},
   "outputs": [],
   "source": [
    "# change the data type for Date from Object to be datetime\n",
    "Data['Order Date (Dateorders)'] = pd.to_datetime(Data['Order Date (Dateorders)'])\n",
    "Data['Shipping Date (Dateorders)'] = pd.to_datetime(Data['Shipping Date (Dateorders)'])"
   ]
  },
  {
   "cell_type": "code",
   "execution_count": 39,
   "id": "1f38afd6",
   "metadata": {},
   "outputs": [
    {
     "data": {
      "text/plain": [
       "0"
      ]
     },
     "execution_count": 39,
     "metadata": {},
     "output_type": "execute_result"
    }
   ],
   "source": [
    "# Check for duplicates\n",
    "Data.duplicated().sum()"
   ]
  },
  {
   "cell_type": "code",
   "execution_count": 40,
   "id": "afcabf7d",
   "metadata": {},
   "outputs": [],
   "source": [
    "# Drop the unusefull columns\n",
    "columns_to_drop = [\n",
    "    'Category Id',\n",
    "    'Customer Id',\n",
    "    'Department Id',\n",
    "    'Sutomer Password',\n",
    "    'Customer Email',\n",
    "    'Order Customer Id',\n",
    "    'Customer Street',\n",
    "    'Order Id',\n",
    "    'Order Item Cardprod Id',\n",
    "    'Order Item Id',\n",
    "    'Product Card Id',\n",
    "    'Product Category Id',\n",
    "    'Product Description',\n",
    "    'Order Zipcode',\n",
    "    'Product Image',\n",
    "    'Latitude'\n",
    ",'Longitude',\n",
    "    'Customer Password', \n",
    "    'Benefit Per Order',\n",
    "    'Order Item Product Price'\n",
    "\n",
    "]\n",
    "\n",
    "Data = Data.drop(columns=[col for col in columns_to_drop if col in Data.columns])"
   ]
  },
  {
   "cell_type": "code",
   "execution_count": 41,
   "id": "74ba0a9f",
   "metadata": {},
   "outputs": [
    {
     "data": {
      "text/plain": [
       "Type                             0\n",
       "Days For Shipping (Real)         0\n",
       "Days For Shipment (Scheduled)    0\n",
       "Sales Per Customer               0\n",
       "Delivery Status                  0\n",
       "Late_Delivery_Risk               0\n",
       "Category Name                    0\n",
       "Customer City                    0\n",
       "Customer Country                 0\n",
       "Customer Fname                   0\n",
       "Customer Lname                   8\n",
       "Customer Segment                 0\n",
       "Customer State                   0\n",
       "Customer Zipcode                 3\n",
       "Department Name                  0\n",
       "Market                           0\n",
       "Order City                       0\n",
       "Order Country                    0\n",
       "Order Date (Dateorders)          0\n",
       "Order Item Discount              0\n",
       "Order Item Discount Rate         0\n",
       "Order Item Profit Ratio          0\n",
       "Order Item Quantity              0\n",
       "Sales                            0\n",
       "Order Item Total                 0\n",
       "Order Profit Per Order           0\n",
       "Order Region                     0\n",
       "Order State                      0\n",
       "Order Status                     0\n",
       "Product Name                     0\n",
       "Product Price                    0\n",
       "Product Status                   0\n",
       "Shipping Date (Dateorders)       0\n",
       "Shipping Mode                    0\n",
       "dtype: int64"
      ]
     },
     "execution_count": 41,
     "metadata": {},
     "output_type": "execute_result"
    }
   ],
   "source": [
    "# Check for null data and found there's no nulls\n",
    "Data.isnull().sum()"
   ]
  },
  {
   "cell_type": "code",
   "execution_count": 42,
   "id": "0dfd363a",
   "metadata": {
    "scrolled": true
   },
   "outputs": [
    {
     "data": {
      "text/plain": [
       "Customer State\n",
       "91732        1\n",
       "95758        2\n",
       "AL          35\n",
       "IA          67\n",
       "MT          87\n",
       "AR         164\n",
       "ID         167\n",
       "ND         215\n",
       "OK         232\n",
       "WV         241\n",
       "RI         243\n",
       "DE         269\n",
       "KS         458\n",
       "KY         487\n",
       "DC         579\n",
       "IN         581\n",
       "SC         665\n",
       "MN         672\n",
       "WI         850\n",
       "WA         920\n",
       "LA         948\n",
       "NM         949\n",
       "UT         968\n",
       "CT        1094\n",
       "HI        1248\n",
       "MO        1354\n",
       "NV        1440\n",
       "TN        1582\n",
       "MA        1607\n",
       "OR        1668\n",
       "VA        1849\n",
       "CO        1914\n",
       "NC        1992\n",
       "MD        2415\n",
       "GA        2503\n",
       "AZ        3026\n",
       "NJ        3191\n",
       "MI        3804\n",
       "PA        3824\n",
       "OH        4095\n",
       "FL        5456\n",
       "IL        7631\n",
       "TX        9103\n",
       "NY       11327\n",
       "CA       29223\n",
       "PR       69373\n",
       "Name: count, dtype: int64"
      ]
     },
     "execution_count": 42,
     "metadata": {},
     "output_type": "execute_result"
    }
   ],
   "source": [
    "# Found zip codes in the state column\n",
    "Data['Customer State'].value_counts().sort_values()"
   ]
  },
  {
   "cell_type": "code",
   "execution_count": 43,
   "id": "1be09a74",
   "metadata": {},
   "outputs": [
    {
     "data": {
      "text/plain": [
       "1738      CA\n",
       "1786      CA\n",
       "5637      CA\n",
       "9199      CA\n",
       "9525      CA\n",
       "          ..\n",
       "177719    CA\n",
       "178933    CA\n",
       "178934    CA\n",
       "178935    CA\n",
       "180245    CA\n",
       "Name: Customer State, Length: 126, dtype: object"
      ]
     },
     "execution_count": 43,
     "metadata": {},
     "output_type": "execute_result"
    }
   ],
   "source": [
    "Data['Customer State'].loc[Data['Customer Zipcode']==91732]"
   ]
  },
  {
   "cell_type": "code",
   "execution_count": 44,
   "id": "fbe885ed",
   "metadata": {},
   "outputs": [
    {
     "data": {
      "text/plain": [
       "1755      CA\n",
       "2806      CA\n",
       "4232      CA\n",
       "10017     CA\n",
       "17000     CA\n",
       "          ..\n",
       "169529    CA\n",
       "169639    CA\n",
       "169835    CA\n",
       "169839    CA\n",
       "172121    CA\n",
       "Name: Customer State, Length: 113, dtype: object"
      ]
     },
     "execution_count": 44,
     "metadata": {},
     "output_type": "execute_result"
    }
   ],
   "source": [
    "Data['Customer State'].loc[Data['Customer Zipcode']==95758]"
   ]
  },
  {
   "cell_type": "code",
   "execution_count": 45,
   "id": "50e4f2a5",
   "metadata": {},
   "outputs": [],
   "source": [
    "# Replacing the worng values in the customer state column with CA\n",
    "Data['Customer State'] = Data['Customer State'].replace(['91732', '95758'], 'CA')"
   ]
  },
  {
   "cell_type": "code",
   "execution_count": 46,
   "id": "d6e0226a",
   "metadata": {},
   "outputs": [
    {
     "data": {
      "text/plain": [
       "0"
      ]
     },
     "execution_count": 46,
     "metadata": {},
     "output_type": "execute_result"
    }
   ],
   "source": [
    "# Finding null values in the customer last name and replacing them with space then merge the two columns together\n",
    "Data['Customer Lname'] = Data['Customer Lname'].fillna('')\n",
    "Data['Customer Full Name'] = Data['Customer Fname']+' '+Data['Customer Lname']\n",
    "Data = Data.drop(columns=['Customer Fname', 'Customer Lname','Customer Zipcode'])\n",
    "Data['Customer Full Name'].isnull().sum()"
   ]
  },
  {
   "cell_type": "code",
   "execution_count": 47,
   "id": "ea5e12f8",
   "metadata": {},
   "outputs": [
    {
     "data": {
      "text/html": [
       "<div>\n",
       "<style scoped>\n",
       "    .dataframe tbody tr th:only-of-type {\n",
       "        vertical-align: middle;\n",
       "    }\n",
       "\n",
       "    .dataframe tbody tr th {\n",
       "        vertical-align: top;\n",
       "    }\n",
       "\n",
       "    .dataframe thead th {\n",
       "        text-align: right;\n",
       "    }\n",
       "</style>\n",
       "<table border=\"1\" class=\"dataframe\">\n",
       "  <thead>\n",
       "    <tr style=\"text-align: right;\">\n",
       "      <th></th>\n",
       "      <th>Customer Full Name</th>\n",
       "      <th>count</th>\n",
       "    </tr>\n",
       "  </thead>\n",
       "  <tbody>\n",
       "    <tr>\n",
       "      <th>0</th>\n",
       "      <td>Mary Smith</td>\n",
       "      <td>23884</td>\n",
       "    </tr>\n",
       "    <tr>\n",
       "      <th>1</th>\n",
       "      <td>Robert Smith</td>\n",
       "      <td>744</td>\n",
       "    </tr>\n",
       "    <tr>\n",
       "      <th>2</th>\n",
       "      <td>James Smith</td>\n",
       "      <td>726</td>\n",
       "    </tr>\n",
       "    <tr>\n",
       "      <th>3</th>\n",
       "      <td>David Smith</td>\n",
       "      <td>723</td>\n",
       "    </tr>\n",
       "    <tr>\n",
       "      <th>4</th>\n",
       "      <td>John Smith</td>\n",
       "      <td>645</td>\n",
       "    </tr>\n",
       "    <tr>\n",
       "      <th>...</th>\n",
       "      <td>...</td>\n",
       "      <td>...</td>\n",
       "    </tr>\n",
       "    <tr>\n",
       "      <th>14028</th>\n",
       "      <td>Kevyn Christensen</td>\n",
       "      <td>1</td>\n",
       "    </tr>\n",
       "    <tr>\n",
       "      <th>14029</th>\n",
       "      <td>Karleigh Conley</td>\n",
       "      <td>1</td>\n",
       "    </tr>\n",
       "    <tr>\n",
       "      <th>14030</th>\n",
       "      <td>Linda Workman</td>\n",
       "      <td>1</td>\n",
       "    </tr>\n",
       "    <tr>\n",
       "      <th>14031</th>\n",
       "      <td>Mari Beach</td>\n",
       "      <td>1</td>\n",
       "    </tr>\n",
       "    <tr>\n",
       "      <th>14032</th>\n",
       "      <td>Hyacinth Witt</td>\n",
       "      <td>1</td>\n",
       "    </tr>\n",
       "  </tbody>\n",
       "</table>\n",
       "<p>14033 rows × 2 columns</p>\n",
       "</div>"
      ],
      "text/plain": [
       "      Customer Full Name  count\n",
       "0             Mary Smith  23884\n",
       "1           Robert Smith    744\n",
       "2            James Smith    726\n",
       "3            David Smith    723\n",
       "4             John Smith    645\n",
       "...                  ...    ...\n",
       "14028  Kevyn Christensen      1\n",
       "14029    Karleigh Conley      1\n",
       "14030      Linda Workman      1\n",
       "14031         Mari Beach      1\n",
       "14032      Hyacinth Witt      1\n",
       "\n",
       "[14033 rows x 2 columns]"
      ]
     },
     "execution_count": 47,
     "metadata": {},
     "output_type": "execute_result"
    }
   ],
   "source": [
    "Data['Customer Full Name'].value_counts().reset_index()"
   ]
  },
  {
   "cell_type": "code",
   "execution_count": 48,
   "id": "ee207c9c",
   "metadata": {},
   "outputs": [
    {
     "data": {
      "text/html": [
       "<div>\n",
       "<style scoped>\n",
       "    .dataframe tbody tr th:only-of-type {\n",
       "        vertical-align: middle;\n",
       "    }\n",
       "\n",
       "    .dataframe tbody tr th {\n",
       "        vertical-align: top;\n",
       "    }\n",
       "\n",
       "    .dataframe thead th {\n",
       "        text-align: right;\n",
       "    }\n",
       "</style>\n",
       "<table border=\"1\" class=\"dataframe\">\n",
       "  <thead>\n",
       "    <tr style=\"text-align: right;\">\n",
       "      <th></th>\n",
       "      <th>Customer Country</th>\n",
       "      <th>count</th>\n",
       "    </tr>\n",
       "  </thead>\n",
       "  <tbody>\n",
       "    <tr>\n",
       "      <th>0</th>\n",
       "      <td>EE. UU.</td>\n",
       "      <td>111146</td>\n",
       "    </tr>\n",
       "    <tr>\n",
       "      <th>1</th>\n",
       "      <td>Puerto Rico</td>\n",
       "      <td>69373</td>\n",
       "    </tr>\n",
       "  </tbody>\n",
       "</table>\n",
       "</div>"
      ],
      "text/plain": [
       "  Customer Country   count\n",
       "0          EE. UU.  111146\n",
       "1      Puerto Rico   69373"
      ]
     },
     "execution_count": 48,
     "metadata": {},
     "output_type": "execute_result"
    }
   ],
   "source": [
    "# Found the most repeated country is USA but in the name of EE. UU.\n",
    "Data['Customer Country'].value_counts().reset_index()"
   ]
  },
  {
   "cell_type": "code",
   "execution_count": 49,
   "id": "45319a96",
   "metadata": {},
   "outputs": [],
   "source": [
    "# Replace the name of EE. UU. in Spanish to be USA in English \n",
    "Data['Customer Country'] = Data['Customer Country'].replace('EE. UU.', 'USA')"
   ]
  },
  {
   "cell_type": "code",
   "execution_count": 50,
   "id": "71a7d513",
   "metadata": {},
   "outputs": [],
   "source": [
    "# Get the number of delayed days with substracting Days For Shipping (Real)- Days For Shipment (Scheduled)\n",
    "Data['Shipping Delay (Days)'] = Data['Days For Shipping (Real)'] - Data['Days For Shipment (Scheduled)']"
   ]
  },
  {
   "cell_type": "code",
   "execution_count": 51,
   "id": "082864fc",
   "metadata": {},
   "outputs": [
    {
     "data": {
      "text/plain": [
       "0.6"
      ]
     },
     "execution_count": 51,
     "metadata": {},
     "output_type": "execute_result"
    }
   ],
   "source": [
    "# Get the Average of days delayed\n",
    "average_shipping_delay = Data['Shipping Delay (Days)'].mean()\n",
    "round(average_shipping_delay,1)"
   ]
  },
  {
   "cell_type": "code",
   "execution_count": 52,
   "id": "0ad92e87",
   "metadata": {},
   "outputs": [],
   "source": [
    "# Replacing the values in the late delivery risk column with string values\n",
    "Data['Late_Delivery_Risk'] = Data['Late_Delivery_Risk'].replace({0: 'Not Late', 1: 'Late'})"
   ]
  },
  {
   "cell_type": "code",
   "execution_count": 53,
   "id": "3a264d6f",
   "metadata": {},
   "outputs": [
    {
     "data": {
      "text/html": [
       "<div>\n",
       "<style scoped>\n",
       "    .dataframe tbody tr th:only-of-type {\n",
       "        vertical-align: middle;\n",
       "    }\n",
       "\n",
       "    .dataframe tbody tr th {\n",
       "        vertical-align: top;\n",
       "    }\n",
       "\n",
       "    .dataframe thead th {\n",
       "        text-align: right;\n",
       "    }\n",
       "</style>\n",
       "<table border=\"1\" class=\"dataframe\">\n",
       "  <thead>\n",
       "    <tr style=\"text-align: right;\">\n",
       "      <th></th>\n",
       "      <th>Late_Delivery_Risk</th>\n",
       "      <th>count</th>\n",
       "    </tr>\n",
       "  </thead>\n",
       "  <tbody>\n",
       "    <tr>\n",
       "      <th>0</th>\n",
       "      <td>Late</td>\n",
       "      <td>98977</td>\n",
       "    </tr>\n",
       "    <tr>\n",
       "      <th>1</th>\n",
       "      <td>Not Late</td>\n",
       "      <td>81542</td>\n",
       "    </tr>\n",
       "  </tbody>\n",
       "</table>\n",
       "</div>"
      ],
      "text/plain": [
       "  Late_Delivery_Risk  count\n",
       "0               Late  98977\n",
       "1           Not Late  81542"
      ]
     },
     "execution_count": 53,
     "metadata": {},
     "output_type": "execute_result"
    }
   ],
   "source": [
    "# Found there's a lot of late delivery\n",
    "Data['Late_Delivery_Risk'].value_counts().reset_index()"
   ]
  },
  {
   "cell_type": "code",
   "execution_count": 54,
   "id": "c5541448",
   "metadata": {},
   "outputs": [
    {
     "data": {
      "text/html": [
       "<div>\n",
       "<style scoped>\n",
       "    .dataframe tbody tr th:only-of-type {\n",
       "        vertical-align: middle;\n",
       "    }\n",
       "\n",
       "    .dataframe tbody tr th {\n",
       "        vertical-align: top;\n",
       "    }\n",
       "\n",
       "    .dataframe thead th {\n",
       "        text-align: right;\n",
       "    }\n",
       "</style>\n",
       "<table border=\"1\" class=\"dataframe\">\n",
       "  <thead>\n",
       "    <tr style=\"text-align: right;\">\n",
       "      <th></th>\n",
       "      <th>Order Status</th>\n",
       "      <th>count</th>\n",
       "    </tr>\n",
       "  </thead>\n",
       "  <tbody>\n",
       "    <tr>\n",
       "      <th>0</th>\n",
       "      <td>COMPLETE</td>\n",
       "      <td>59491</td>\n",
       "    </tr>\n",
       "    <tr>\n",
       "      <th>1</th>\n",
       "      <td>PENDING_PAYMENT</td>\n",
       "      <td>39832</td>\n",
       "    </tr>\n",
       "    <tr>\n",
       "      <th>2</th>\n",
       "      <td>PROCESSING</td>\n",
       "      <td>21902</td>\n",
       "    </tr>\n",
       "    <tr>\n",
       "      <th>3</th>\n",
       "      <td>PENDING</td>\n",
       "      <td>20227</td>\n",
       "    </tr>\n",
       "    <tr>\n",
       "      <th>4</th>\n",
       "      <td>CLOSED</td>\n",
       "      <td>19616</td>\n",
       "    </tr>\n",
       "    <tr>\n",
       "      <th>5</th>\n",
       "      <td>ON_HOLD</td>\n",
       "      <td>9804</td>\n",
       "    </tr>\n",
       "    <tr>\n",
       "      <th>6</th>\n",
       "      <td>SUSPECTED_FRAUD</td>\n",
       "      <td>4062</td>\n",
       "    </tr>\n",
       "    <tr>\n",
       "      <th>7</th>\n",
       "      <td>CANCELED</td>\n",
       "      <td>3692</td>\n",
       "    </tr>\n",
       "    <tr>\n",
       "      <th>8</th>\n",
       "      <td>PAYMENT_REVIEW</td>\n",
       "      <td>1893</td>\n",
       "    </tr>\n",
       "  </tbody>\n",
       "</table>\n",
       "</div>"
      ],
      "text/plain": [
       "      Order Status  count\n",
       "0         COMPLETE  59491\n",
       "1  PENDING_PAYMENT  39832\n",
       "2       PROCESSING  21902\n",
       "3          PENDING  20227\n",
       "4           CLOSED  19616\n",
       "5          ON_HOLD   9804\n",
       "6  SUSPECTED_FRAUD   4062\n",
       "7         CANCELED   3692\n",
       "8   PAYMENT_REVIEW   1893"
      ]
     },
     "execution_count": 54,
     "metadata": {},
     "output_type": "execute_result"
    }
   ],
   "source": [
    "# Found there's different words in the same meaning so we will unifies the words \n",
    "Data['Order Status'].value_counts().reset_index()"
   ]
  },
  {
   "cell_type": "code",
   "execution_count": 55,
   "id": "50765b71",
   "metadata": {},
   "outputs": [],
   "source": [
    "Data['Order Status'] = Data['Order Status'].replace({\n",
    "    'CLOSED': 'COMPLETE',\n",
    "    'ON_HOLD': 'PROCESSING'\n",
    "})"
   ]
  },
  {
   "cell_type": "code",
   "execution_count": 56,
   "id": "c0623a56",
   "metadata": {},
   "outputs": [],
   "source": [
    "# Replace the integer values in product status to string values\n",
    "Data['Product Status'] = Data['Product Status'].replace({\n",
    "    0: 'Available',\n",
    "    1: 'Not Available'\n",
    "})"
   ]
  },
  {
   "cell_type": "code",
   "execution_count": 57,
   "id": "d65867ad",
   "metadata": {},
   "outputs": [],
   "source": [
    "\n",
    "def get_season(date):\n",
    "    month = date.month\n",
    "    if month in [12, 1, 2]:\n",
    "        return 'Winter'\n",
    "    elif month in [3, 4, 5]:\n",
    "        return 'Spring'\n",
    "    elif month in [6, 7, 8]:\n",
    "        return 'Summer'\n",
    "    else:\n",
    "        return 'Autumn'\n",
    "\n",
    "# Apply the function to create the new column\n",
    "Data['Season'] = Data['Order Date (Dateorders)'].apply(get_season)"
   ]
  },
  {
   "cell_type": "markdown",
   "id": "91757db3",
   "metadata": {},
   "source": [
    "# Analysis"
   ]
  },
  {
   "cell_type": "code",
   "execution_count": 32,
   "id": "c5f175b4",
   "metadata": {},
   "outputs": [
    {
     "data": {
      "text/plain": [
       "<Axes: xlabel='Customer City'>"
      ]
     },
     "execution_count": 32,
     "metadata": {},
     "output_type": "execute_result"
    },
    {
     "data": {
      "image/png": "[encoded data removed]",
      "text/plain": [
       "<Figure size 640x480 with 1 Axes>"
      ]
     },
     "metadata": {},
     "output_type": "display_data"
    }
   ],
   "source": [
    "Data['Customer City'].value_counts().sort_values(ascending=False).head(5).plot(kind='bar')"
   ]
  },
  {
   "cell_type": "code",
   "execution_count": 33,
   "id": "929a5153",
   "metadata": {},
   "outputs": [
    {
     "data": {
      "text/plain": [
       "<Axes: ylabel='count'>"
      ]
     },
     "execution_count": 33,
     "metadata": {},
     "output_type": "execute_result"
    },
    {
     "data": {
      "image/png": "[encoded data removed]",
      "text/plain": [
       "<Figure size 640x480 with 1 Axes>"
      ]
     },
     "metadata": {},
     "output_type": "display_data"
    }
   ],
   "source": [
    "# The hieghts ordered shipping mode\n",
    "Data['Shipping Mode'].value_counts().plot(kind='pie')"
   ]
  },
  {
   "cell_type": "code",
   "execution_count": 35,
   "id": "9c05aaa1",
   "metadata": {},
   "outputs": [
    {
     "data": {
      "text/plain": [
       "Shipping Delay (Days)   0.59\n",
       "dtype: float64"
      ]
     },
     "execution_count": 35,
     "metadata": {},
     "output_type": "execute_result"
    }
   ],
   "source": [
    "# Found there's profit in negative so try to get if it's because of delaying \n",
    "Data[['Shipping Delay (Days)']].loc[Data['Order Item Profit Ratio']<-1].mean()"
   ]
  },
  {
   "cell_type": "code",
   "execution_count": 36,
   "id": "a1684a62",
   "metadata": {},
   "outputs": [
    {
     "data": {
      "text/html": [
       "<div>\n",
       "<style scoped>\n",
       "    .dataframe tbody tr th:only-of-type {\n",
       "        vertical-align: middle;\n",
       "    }\n",
       "\n",
       "    .dataframe tbody tr th {\n",
       "        vertical-align: top;\n",
       "    }\n",
       "\n",
       "    .dataframe thead th {\n",
       "        text-align: right;\n",
       "    }\n",
       "</style>\n",
       "<table border=\"1\" class=\"dataframe\">\n",
       "  <thead>\n",
       "    <tr style=\"text-align: right;\">\n",
       "      <th></th>\n",
       "      <th>Product Name</th>\n",
       "      <th>Order Profit Per Order</th>\n",
       "    </tr>\n",
       "  </thead>\n",
       "  <tbody>\n",
       "    <tr>\n",
       "      <th>77</th>\n",
       "      <td>SOLE E35 Elliptical</td>\n",
       "      <td>-64.34</td>\n",
       "    </tr>\n",
       "  </tbody>\n",
       "</table>\n",
       "</div>"
      ],
      "text/plain": [
       "           Product Name  Order Profit Per Order\n",
       "77  SOLE E35 Elliptical                  -64.34"
      ]
     },
     "execution_count": 36,
     "metadata": {},
     "output_type": "execute_result"
    }
   ],
   "source": [
    "# Get the product with the lowest profit \n",
    "lowest_profit = pd.pivot_table(Data,index=['Product Name'],values=['Order Profit Per Order'],\n",
    "                               aggfunc='mean').reset_index().sort_values(by='Order Profit Per Order').head(1)\n",
    "lowest_profit"
   ]
  },
  {
   "cell_type": "code",
   "execution_count": 37,
   "id": "b865e705",
   "metadata": {},
   "outputs": [
    {
     "data": {
      "text/html": [
       "<div>\n",
       "<style scoped>\n",
       "    .dataframe tbody tr th:only-of-type {\n",
       "        vertical-align: middle;\n",
       "    }\n",
       "\n",
       "    .dataframe tbody tr th {\n",
       "        vertical-align: top;\n",
       "    }\n",
       "\n",
       "    .dataframe thead th {\n",
       "        text-align: right;\n",
       "    }\n",
       "</style>\n",
       "<table border=\"1\" class=\"dataframe\">\n",
       "  <thead>\n",
       "    <tr style=\"text-align: right;\">\n",
       "      <th></th>\n",
       "      <th>Product Name</th>\n",
       "      <th>Order Profit Per Order</th>\n",
       "    </tr>\n",
       "  </thead>\n",
       "  <tbody>\n",
       "    <tr>\n",
       "      <th>18</th>\n",
       "      <td>Dell Laptop</td>\n",
       "      <td>157.59</td>\n",
       "    </tr>\n",
       "  </tbody>\n",
       "</table>\n",
       "</div>"
      ],
      "text/plain": [
       "   Product Name  Order Profit Per Order\n",
       "18  Dell Laptop                  157.59"
      ]
     },
     "execution_count": 37,
     "metadata": {},
     "output_type": "execute_result"
    }
   ],
   "source": [
    "# Get the product with the Highest profit \n",
    "\n",
    "highest_profit = pd.pivot_table(Data,index=['Product Name'],values=['Order Profit Per Order'],\n",
    "                                aggfunc='mean').reset_index().sort_values(by='Order Profit Per Order').tail(1)\n",
    "highest_profit"
   ]
  },
  {
   "cell_type": "code",
   "execution_count": 38,
   "id": "1ec480b9",
   "metadata": {},
   "outputs": [
    {
     "data": {
      "text/html": [
       "<div>\n",
       "<style scoped>\n",
       "    .dataframe tbody tr th:only-of-type {\n",
       "        vertical-align: middle;\n",
       "    }\n",
       "\n",
       "    .dataframe tbody tr th {\n",
       "        vertical-align: top;\n",
       "    }\n",
       "\n",
       "    .dataframe thead th {\n",
       "        text-align: right;\n",
       "    }\n",
       "</style>\n",
       "<table border=\"1\" class=\"dataframe\">\n",
       "  <thead>\n",
       "    <tr style=\"text-align: right;\">\n",
       "      <th></th>\n",
       "      <th>Product Name</th>\n",
       "      <th>Order Item Discount Rate</th>\n",
       "      <th>Order Profit Per Order</th>\n",
       "    </tr>\n",
       "  </thead>\n",
       "  <tbody>\n",
       "    <tr>\n",
       "      <th>76</th>\n",
       "      <td>SOLE E25 Elliptical</td>\n",
       "      <td>0.06</td>\n",
       "      <td>-16.96</td>\n",
       "    </tr>\n",
       "    <tr>\n",
       "      <th>72</th>\n",
       "      <td>Polar FT4 Heart Rate Monitor</td>\n",
       "      <td>0.08</td>\n",
       "      <td>57.95</td>\n",
       "    </tr>\n",
       "    <tr>\n",
       "      <th>9</th>\n",
       "      <td>Bushnell Pro X7 Jolt Slope Rangefinder</td>\n",
       "      <td>0.08</td>\n",
       "      <td>-23.27</td>\n",
       "    </tr>\n",
       "    <tr>\n",
       "      <th>80</th>\n",
       "      <td>Stiga Master Series ST3100 Competition Indoor</td>\n",
       "      <td>0.09</td>\n",
       "      <td>17.75</td>\n",
       "    </tr>\n",
       "    <tr>\n",
       "      <th>51</th>\n",
       "      <td>Merrell Women's Grassbow Sport Waterproof Hik</td>\n",
       "      <td>0.09</td>\n",
       "      <td>17.75</td>\n",
       "    </tr>\n",
       "  </tbody>\n",
       "</table>\n",
       "</div>"
      ],
      "text/plain": [
       "                                     Product Name  Order Item Discount Rate  \\\n",
       "76                            SOLE E25 Elliptical                      0.06   \n",
       "72                   Polar FT4 Heart Rate Monitor                      0.08   \n",
       "9          Bushnell Pro X7 Jolt Slope Rangefinder                      0.08   \n",
       "80  Stiga Master Series ST3100 Competition Indoor                      0.09   \n",
       "51  Merrell Women's Grassbow Sport Waterproof Hik                      0.09   \n",
       "\n",
       "    Order Profit Per Order  \n",
       "76                  -16.96  \n",
       "72                   57.95  \n",
       "9                   -23.27  \n",
       "80                   17.75  \n",
       "51                   17.75  "
      ]
     },
     "execution_count": 38,
     "metadata": {},
     "output_type": "execute_result"
    }
   ],
   "source": [
    "# Try to get if there's a relationship between discound and the profit for each product\n",
    "# and found when the discound is very low \n",
    "lowest_Discount_Profit = pd.pivot_table(Data,index=['Product Name'],values=['Order Item Discount Rate',\n",
    "                                                                            'Order Profit Per Order'],\n",
    "                                aggfunc='mean').reset_index().sort_values(by='Order Item Discount Rate').head(5)\n",
    "lowest_Discount_Profit"
   ]
  },
  {
   "cell_type": "code",
   "execution_count": null,
   "id": "b9e2ab3a",
   "metadata": {},
   "outputs": [],
   "source": []
  },
  {
   "cell_type": "code",
   "execution_count": 39,
   "id": "43f0ab45",
   "metadata": {},
   "outputs": [
    {
     "data": {
      "text/html": [
       "<div>\n",
       "<style scoped>\n",
       "    .dataframe tbody tr th:only-of-type {\n",
       "        vertical-align: middle;\n",
       "    }\n",
       "\n",
       "    .dataframe tbody tr th {\n",
       "        vertical-align: top;\n",
       "    }\n",
       "\n",
       "    .dataframe thead th {\n",
       "        text-align: right;\n",
       "    }\n",
       "</style>\n",
       "<table border=\"1\" class=\"dataframe\">\n",
       "  <thead>\n",
       "    <tr style=\"text-align: right;\">\n",
       "      <th></th>\n",
       "      <th>Product Name</th>\n",
       "      <th>Order Item Discount Rate</th>\n",
       "      <th>Order Profit Per Order</th>\n",
       "    </tr>\n",
       "  </thead>\n",
       "  <tbody>\n",
       "    <tr>\n",
       "      <th>4</th>\n",
       "      <td>Bowflex SelectTech 1090 Dumbbells</td>\n",
       "      <td>0.14</td>\n",
       "      <td>119.08</td>\n",
       "    </tr>\n",
       "    <tr>\n",
       "      <th>77</th>\n",
       "      <td>SOLE E35 Elliptical</td>\n",
       "      <td>0.12</td>\n",
       "      <td>-64.34</td>\n",
       "    </tr>\n",
       "    <tr>\n",
       "      <th>19</th>\n",
       "      <td>Diamondback Boys' Insight 24 Performance Hybr</td>\n",
       "      <td>0.12</td>\n",
       "      <td>59.68</td>\n",
       "    </tr>\n",
       "    <tr>\n",
       "      <th>45</th>\n",
       "      <td>LIJA Women's Mid-Length Panel Golf Shorts</td>\n",
       "      <td>0.12</td>\n",
       "      <td>40.89</td>\n",
       "    </tr>\n",
       "    <tr>\n",
       "      <th>8</th>\n",
       "      <td>Brooks Women's Ghost 6 Running Shoe</td>\n",
       "      <td>0.11</td>\n",
       "      <td>39.50</td>\n",
       "    </tr>\n",
       "  </tbody>\n",
       "</table>\n",
       "</div>"
      ],
      "text/plain": [
       "                                     Product Name  Order Item Discount Rate  \\\n",
       "4               Bowflex SelectTech 1090 Dumbbells                      0.14   \n",
       "77                            SOLE E35 Elliptical                      0.12   \n",
       "19  Diamondback Boys' Insight 24 Performance Hybr                      0.12   \n",
       "45      LIJA Women's Mid-Length Panel Golf Shorts                      0.12   \n",
       "8             Brooks Women's Ghost 6 Running Shoe                      0.11   \n",
       "\n",
       "    Order Profit Per Order  \n",
       "4                   119.08  \n",
       "77                  -64.34  \n",
       "19                   59.68  \n",
       "45                   40.89  \n",
       "8                    39.50  "
      ]
     },
     "execution_count": 39,
     "metadata": {},
     "output_type": "execute_result"
    }
   ],
   "source": [
    "Highest_Discount_Profit = pd.pivot_table(Data,index=['Product Name'],values=['Order Item Discount Rate','Order Profit Per Order'],\n",
    "                                aggfunc='mean').reset_index().sort_values(by='Order Item Discount Rate',\n",
    "                        ascending=False).head(5)\n",
    "Highest_Discount_Profit"
   ]
  },
  {
   "cell_type": "code",
   "execution_count": 40,
   "id": "6a256149",
   "metadata": {},
   "outputs": [
    {
     "data": {
      "image/png": "[encoded data removed]",
      "text/plain": [
       "<Figure size 1000x600 with 1 Axes>"
      ]
     },
     "metadata": {},
     "output_type": "display_data"
    }
   ],
   "source": [
    "Data.groupby(['Department Name', 'Product Name'])['Benefit Per Order'] \\\n",
    "    .sum() \\\n",
    "    .sort_values(ascending=False) \\\n",
    "    .reset_index() \\\n",
    "    .head(5) \\\n",
    "    .plot(kind='barh', x='Product Name', y='Benefit Per Order', figsize=(10, 6), color='skyblue')\n",
    "\n",
    "# Add labels and title\n",
    "plt.xlabel('Total Benefit Per Order')\n",
    "plt.ylabel('Product Name')\n",
    "plt.title('Top 5 Products by Total Benefit Per Order')\n",
    "plt.tight_layout()\n",
    "plt.show()\n"
   ]
  },
  {
   "cell_type": "markdown",
   "id": "ee689d0f",
   "metadata": {},
   "source": [
    "# Export the Data to CSV File"
   ]
  },
  {
   "cell_type": "code",
   "execution_count": 41,
   "id": "7d72908d",
   "metadata": {},
   "outputs": [],
   "source": [
    "Data.to_csv('Supply_Chain.csv', index=False,encoding='utf-8')"
   ]
  },
  {
   "cell_type": "code",
   "execution_count": 67,
   "id": "588a1a5a",
   "metadata": {},
   "outputs": [],
   "source": [
    "server = 'Yara'\n",
    "database = 'Supply_Chain'\n",
    "username = ''\n",
    "password = ''\n",
    "\n",
    "connection_string = f'mssql+pyodbc://{username}:{password}@{server}/{database}?driver=ODBC+Driver+17+for+SQL+Server'\n",
    "engine = create_engine(connection_string)"
   ]
  },
  {
   "cell_type": "code",
   "execution_count": null,
   "id": "b77ca874",
   "metadata": {},
   "outputs": [],
   "source": [
    "Data.to_sql('Supply_Chain', con=engine, if_exists='replace', index=False)\n",
    "print(f\"✅ Uploaded:\")"
   ]
  },
  {
   "cell_type": "markdown",
   "id": "20ec84f0",
   "metadata": {},
   "source": [
    "# We Found there's alot of latency and loss in profitablity so we need to focus more on them in the analysis"
   ]
  },
  {
   "cell_type": "markdown",
   "id": "54c6c114",
   "metadata": {},
   "source": [
    "# Thank You!"
   ]
  }
 ],
 "metadata": {
  "kernelspec": {
   "display_name": "Python 3 (ipykernel)",
   "language": "python",
   "name": "python3"
  },
  "language_info": {
   "codemirror_mode": {
    "name": "ipython",
    "version": 3
   },
   "file_extension": ".py",
   "mimetype": "text/x-python",
   "name": "python",
   "nbconvert_exporter": "python",
   "pygments_lexer": "ipython3",
   "version": "3.11.5"
  }
 },
 "nbformat": 4,
 "nbformat_minor": 5
}
